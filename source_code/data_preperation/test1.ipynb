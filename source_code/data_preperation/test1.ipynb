{
 "cells": [
  {
   "cell_type": "code",
   "execution_count": 3,
   "metadata": {},
   "outputs": [
    {
     "ename": "TypeError",
     "evalue": "cannot unpack non-iterable numpy.dtype[int64] object",
     "output_type": "error",
     "traceback": [
      "\u001b[1;31m---------------------------------------------------------------------------\u001b[0m",
      "\u001b[1;31mTypeError\u001b[0m                                 Traceback (most recent call last)",
      "\u001b[1;32md:\\studia\\inzynierka\\source_code\\data_preperation\\test1.ipynb Cell 1\u001b[0m line \u001b[0;36m<module>\u001b[1;34m\u001b[0m\n\u001b[0;32m      <a href='vscode-notebook-cell:/d%3A/studia/inzynierka/source_code/data_preperation/test1.ipynb#W0sZmlsZQ%3D%3D?line=2'>3</a>\u001b[0m data \u001b[39m=\u001b[39m dataPreprocessing()\n\u001b[0;32m      <a href='vscode-notebook-cell:/d%3A/studia/inzynierka/source_code/data_preperation/test1.ipynb#W0sZmlsZQ%3D%3D?line=3'>4</a>\u001b[0m data\u001b[39m.\u001b[39mloadDatabase(training_data)\n\u001b[1;32m----> <a href='vscode-notebook-cell:/d%3A/studia/inzynierka/source_code/data_preperation/test1.ipynb#W0sZmlsZQ%3D%3D?line=4'>5</a>\u001b[0m data\u001b[39m.\u001b[39;49mfindMinAndMaxValues()\n",
      "File \u001b[1;32md:\\studia\\inzynierka\\source_code\\data_preperation\\data_preprocessing.py:67\u001b[0m, in \u001b[0;36mdataPreprocessing.findMinAndMaxValues\u001b[1;34m(self)\u001b[0m\n\u001b[0;32m     66\u001b[0m \u001b[39mdef\u001b[39;00m \u001b[39mfindMinAndMaxValues\u001b[39m(\u001b[39mself\u001b[39m):\n\u001b[1;32m---> 67\u001b[0m     \u001b[39mfor\u001b[39;00m column, dtype \u001b[39min\u001b[39;00m \u001b[39mself\u001b[39m\u001b[39m.\u001b[39munprocessed_dataframe\u001b[39m.\u001b[39mdtypes:\n\u001b[0;32m     68\u001b[0m         \u001b[39mprint\u001b[39m(column)\n\u001b[0;32m     69\u001b[0m     \u001b[39mreturn\u001b[39;00m \u001b[39mTrue\u001b[39;00m\n",
      "\u001b[1;31mTypeError\u001b[0m: cannot unpack non-iterable numpy.dtype[int64] object"
     ]
    }
   ],
   "source": [
    "from data_preprocessing import *\n",
    "training_data = \"D:/studia/inzynierka/data/kddcup.data_10_percent.gz\"\n",
    "data = dataPreprocessing()\n",
    "data.loadDatabase(training_data)\n",
    "data.findMinAndMaxValues()"
   ]
  }
 ],
 "metadata": {
  "kernelspec": {
   "display_name": "Python 3",
   "language": "python",
   "name": "python3"
  },
  "language_info": {
   "codemirror_mode": {
    "name": "ipython",
    "version": 3
   },
   "file_extension": ".py",
   "mimetype": "text/x-python",
   "name": "python",
   "nbconvert_exporter": "python",
   "pygments_lexer": "ipython3",
   "version": "3.10.7"
  }
 },
 "nbformat": 4,
 "nbformat_minor": 2
}
